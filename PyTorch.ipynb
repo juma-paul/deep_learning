{
  "nbformat": 4,
  "nbformat_minor": 0,
  "metadata": {
    "colab": {
      "provenance": [],
      "gpuType": "V28",
      "authorship_tag": "ABX9TyP+dzDkgirp2J/PK8lY21yL",
      "include_colab_link": true
    },
    "kernelspec": {
      "name": "python3",
      "display_name": "Python 3"
    },
    "language_info": {
      "name": "python"
    },
    "accelerator": "TPU"
  },
  "cells": [
    {
      "cell_type": "markdown",
      "metadata": {
        "id": "view-in-github",
        "colab_type": "text"
      },
      "source": [
        "<a href=\"https://colab.research.google.com/github/juma-paul/deep_learning/blob/main/PyTorch.ipynb\" target=\"_parent\"><img src=\"https://colab.research.google.com/assets/colab-badge.svg\" alt=\"Open In Colab\"/></a>"
      ]
    },
    {
      "cell_type": "markdown",
      "source": [
        "# 1. PyTorch basics & fundamentals"
      ],
      "metadata": {
        "id": "RVfZcCwtx-GF"
      }
    },
    {
      "cell_type": "code",
      "source": [
        "import torch\n",
        "import pandas as pd\n",
        "import numpy as np\n",
        "import matplotlib.pyplot as plt\n",
        "print(torch.__version__)"
      ],
      "metadata": {
        "colab": {
          "base_uri": "https://localhost:8080/"
        },
        "id": "CM3d0ci7JOhi",
        "outputId": "8cb9fb8a-6f3a-48b5-e467-f5c6da45b949"
      },
      "execution_count": 10,
      "outputs": [
        {
          "output_type": "stream",
          "name": "stdout",
          "text": [
            "2.5.0+cu121\n"
          ]
        }
      ]
    },
    {
      "cell_type": "markdown",
      "source": [
        "## I. Introductio to tensors"
      ],
      "metadata": {
        "id": "7I0nZc9mJlox"
      }
    },
    {
      "cell_type": "markdown",
      "source": [
        "### a. Creating tensors\n",
        "PyTorch tensors are created using [torch.Tensor()](https://pytorch.org/docs/stable/tensors.html)."
      ],
      "metadata": {
        "id": "yhQ-feMtLOKV"
      }
    },
    {
      "cell_type": "code",
      "source": [
        "# Scalar\n",
        "scalar = torch.tensor(7)\n",
        "scalar"
      ],
      "metadata": {
        "colab": {
          "base_uri": "https://localhost:8080/"
        },
        "id": "nsBtaGHiLZnW",
        "outputId": "569c9218-a6eb-46d9-a744-76f8481db69e"
      },
      "execution_count": 11,
      "outputs": [
        {
          "output_type": "execute_result",
          "data": {
            "text/plain": [
              "tensor(7)"
            ]
          },
          "metadata": {},
          "execution_count": 11
        }
      ]
    },
    {
      "cell_type": "markdown",
      "source": [
        "# 2. Preprocessing Data"
      ],
      "metadata": {
        "id": "yNeIC8mCFfOr"
      }
    },
    {
      "cell_type": "markdown",
      "source": [
        "# 3. Building and using pretrained deep learning models\n"
      ],
      "metadata": {
        "id": "uBFU51FOGU_-"
      }
    },
    {
      "cell_type": "markdown",
      "source": [
        "# 4. Fitting a model to the data\n"
      ],
      "metadata": {
        "id": "HbmfY0I3GU6T"
      }
    },
    {
      "cell_type": "markdown",
      "source": [
        "# 5. Making predictions with a model\n"
      ],
      "metadata": {
        "id": "YlH3rxUWGUz1"
      }
    },
    {
      "cell_type": "markdown",
      "source": [
        "# 6. Evaluating model predictions\n"
      ],
      "metadata": {
        "id": "ZHEtzWoVGUuC"
      }
    },
    {
      "cell_type": "markdown",
      "source": [
        "# 7. Saving and loading models\n"
      ],
      "metadata": {
        "id": "QISBHeIlGUmh"
      }
    },
    {
      "cell_type": "markdown",
      "source": [
        "# 8. Using a trained model to make predictions on custom data"
      ],
      "metadata": {
        "id": "7NXAR105GURs"
      }
    },
    {
      "cell_type": "markdown",
      "source": [
        "# Extra: Workflow\n",
        "- Get data ready (turn into tensors)\n",
        "- Build or pick a pretrained model (to suit problem)\n",
        "  - pick a loss function and an optimizer\n",
        "  - Build a training loop\n",
        "- Fit the model to the data and make predictions\n",
        "- Evaluate the model\n",
        "- Improve through experimentation\n",
        "- Save and reload your trained model"
      ],
      "metadata": {
        "id": "BC8sL00lGp6Z"
      }
    },
    {
      "cell_type": "code",
      "source": [],
      "metadata": {
        "id": "mYzI85OQHmJZ"
      },
      "execution_count": null,
      "outputs": []
    }
  ]
}