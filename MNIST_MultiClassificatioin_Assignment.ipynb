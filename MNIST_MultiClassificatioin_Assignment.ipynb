{
  "nbformat": 4,
  "nbformat_minor": 0,
  "metadata": {
    "colab": {
      "provenance": [],
      "include_colab_link": true
    },
    "kernelspec": {
      "name": "python3",
      "display_name": "Python 3"
    },
    "language_info": {
      "name": "python"
    }
  },
  "cells": [
    {
      "cell_type": "markdown",
      "metadata": {
        "id": "view-in-github",
        "colab_type": "text"
      },
      "source": [
        "<a href=\"https://colab.research.google.com/github/juma-paul/deep_learning/blob/main/MNIST_MultiClassificatioin_Assignment.ipynb\" target=\"_parent\"><img src=\"https://colab.research.google.com/assets/colab-badge.svg\" alt=\"Open In Colab\"/></a>"
      ]
    },
    {
      "cell_type": "markdown",
      "source": [
        "# **Multiclass Classication**"
      ],
      "metadata": {
        "id": "-4kLMyoX1PKu"
      }
    },
    {
      "cell_type": "markdown",
      "source": [
        "Next, you will train the two layer neural network to do multiclass classication on digits dataset. Digits data is similar to MNIST but has even\n",
        "smaller pixel"
      ],
      "metadata": {
        "id": "XiZbcjJM1ZTx"
      }
    },
    {
      "cell_type": "code",
      "source": [
        "# Import required packages\n",
        "from sklearn.model_selection import train_test_split\n",
        "from sklearn.preprocessing import StandardScaler\n",
        "import numpy as np\n",
        "import matplotlib.pyplot as plt\n",
        "import tensorflow as tf"
      ],
      "metadata": {
        "id": "OzpUnC1I1dQC"
      },
      "execution_count": 1,
      "outputs": []
    },
    {
      "cell_type": "code",
      "source": [
        "# Load Dataset\n",
        "from sklearn.datasets import load_digits\n",
        "digits = load_digits(return_X_y=True, as_frame=True)"
      ],
      "metadata": {
        "id": "B9Kc1ebIDRZE"
      },
      "execution_count": 2,
      "outputs": []
    },
    {
      "cell_type": "code",
      "source": [
        "# Assign features to X and targets to y\n",
        "X = digits[0]\n",
        "y = digits[1]"
      ],
      "metadata": {
        "id": "Ou1CFIeHEcva"
      },
      "execution_count": 3,
      "outputs": []
    },
    {
      "cell_type": "code",
      "source": [
        "# Features\n",
        "X"
      ],
      "metadata": {
        "colab": {
          "base_uri": "https://localhost:8080/",
          "height": 444
        },
        "id": "wF6UOElIEuK_",
        "outputId": "d34fc528-8eb4-43cd-e6ad-2fd51c2305c6"
      },
      "execution_count": 4,
      "outputs": [
        {
          "output_type": "execute_result",
          "data": {
            "text/plain": [
              "      pixel_0_0  pixel_0_1  pixel_0_2  pixel_0_3  pixel_0_4  pixel_0_5  \\\n",
              "0           0.0        0.0        5.0       13.0        9.0        1.0   \n",
              "1           0.0        0.0        0.0       12.0       13.0        5.0   \n",
              "2           0.0        0.0        0.0        4.0       15.0       12.0   \n",
              "3           0.0        0.0        7.0       15.0       13.0        1.0   \n",
              "4           0.0        0.0        0.0        1.0       11.0        0.0   \n",
              "...         ...        ...        ...        ...        ...        ...   \n",
              "1792        0.0        0.0        4.0       10.0       13.0        6.0   \n",
              "1793        0.0        0.0        6.0       16.0       13.0       11.0   \n",
              "1794        0.0        0.0        1.0       11.0       15.0        1.0   \n",
              "1795        0.0        0.0        2.0       10.0        7.0        0.0   \n",
              "1796        0.0        0.0       10.0       14.0        8.0        1.0   \n",
              "\n",
              "      pixel_0_6  pixel_0_7  pixel_1_0  pixel_1_1  ...  pixel_6_6  pixel_6_7  \\\n",
              "0           0.0        0.0        0.0        0.0  ...        0.0        0.0   \n",
              "1           0.0        0.0        0.0        0.0  ...        0.0        0.0   \n",
              "2           0.0        0.0        0.0        0.0  ...        5.0        0.0   \n",
              "3           0.0        0.0        0.0        8.0  ...        9.0        0.0   \n",
              "4           0.0        0.0        0.0        0.0  ...        0.0        0.0   \n",
              "...         ...        ...        ...        ...  ...        ...        ...   \n",
              "1792        0.0        0.0        0.0        1.0  ...        4.0        0.0   \n",
              "1793        1.0        0.0        0.0        0.0  ...        1.0        0.0   \n",
              "1794        0.0        0.0        0.0        0.0  ...        0.0        0.0   \n",
              "1795        0.0        0.0        0.0        0.0  ...        2.0        0.0   \n",
              "1796        0.0        0.0        0.0        2.0  ...        8.0        0.0   \n",
              "\n",
              "      pixel_7_0  pixel_7_1  pixel_7_2  pixel_7_3  pixel_7_4  pixel_7_5  \\\n",
              "0           0.0        0.0        6.0       13.0       10.0        0.0   \n",
              "1           0.0        0.0        0.0       11.0       16.0       10.0   \n",
              "2           0.0        0.0        0.0        3.0       11.0       16.0   \n",
              "3           0.0        0.0        7.0       13.0       13.0        9.0   \n",
              "4           0.0        0.0        0.0        2.0       16.0        4.0   \n",
              "...         ...        ...        ...        ...        ...        ...   \n",
              "1792        0.0        0.0        2.0       14.0       15.0        9.0   \n",
              "1793        0.0        0.0        6.0       16.0       14.0        6.0   \n",
              "1794        0.0        0.0        2.0        9.0       13.0        6.0   \n",
              "1795        0.0        0.0        5.0       12.0       16.0       12.0   \n",
              "1796        0.0        1.0        8.0       12.0       14.0       12.0   \n",
              "\n",
              "      pixel_7_6  pixel_7_7  \n",
              "0           0.0        0.0  \n",
              "1           0.0        0.0  \n",
              "2           9.0        0.0  \n",
              "3           0.0        0.0  \n",
              "4           0.0        0.0  \n",
              "...         ...        ...  \n",
              "1792        0.0        0.0  \n",
              "1793        0.0        0.0  \n",
              "1794        0.0        0.0  \n",
              "1795        0.0        0.0  \n",
              "1796        1.0        0.0  \n",
              "\n",
              "[1797 rows x 64 columns]"
            ],
            "text/html": [
              "\n",
              "  <div id=\"df-41915c2c-ae05-4661-a906-37ab3b6a8cf6\" class=\"colab-df-container\">\n",
              "    <div>\n",
              "<style scoped>\n",
              "    .dataframe tbody tr th:only-of-type {\n",
              "        vertical-align: middle;\n",
              "    }\n",
              "\n",
              "    .dataframe tbody tr th {\n",
              "        vertical-align: top;\n",
              "    }\n",
              "\n",
              "    .dataframe thead th {\n",
              "        text-align: right;\n",
              "    }\n",
              "</style>\n",
              "<table border=\"1\" class=\"dataframe\">\n",
              "  <thead>\n",
              "    <tr style=\"text-align: right;\">\n",
              "      <th></th>\n",
              "      <th>pixel_0_0</th>\n",
              "      <th>pixel_0_1</th>\n",
              "      <th>pixel_0_2</th>\n",
              "      <th>pixel_0_3</th>\n",
              "      <th>pixel_0_4</th>\n",
              "      <th>pixel_0_5</th>\n",
              "      <th>pixel_0_6</th>\n",
              "      <th>pixel_0_7</th>\n",
              "      <th>pixel_1_0</th>\n",
              "      <th>pixel_1_1</th>\n",
              "      <th>...</th>\n",
              "      <th>pixel_6_6</th>\n",
              "      <th>pixel_6_7</th>\n",
              "      <th>pixel_7_0</th>\n",
              "      <th>pixel_7_1</th>\n",
              "      <th>pixel_7_2</th>\n",
              "      <th>pixel_7_3</th>\n",
              "      <th>pixel_7_4</th>\n",
              "      <th>pixel_7_5</th>\n",
              "      <th>pixel_7_6</th>\n",
              "      <th>pixel_7_7</th>\n",
              "    </tr>\n",
              "  </thead>\n",
              "  <tbody>\n",
              "    <tr>\n",
              "      <th>0</th>\n",
              "      <td>0.0</td>\n",
              "      <td>0.0</td>\n",
              "      <td>5.0</td>\n",
              "      <td>13.0</td>\n",
              "      <td>9.0</td>\n",
              "      <td>1.0</td>\n",
              "      <td>0.0</td>\n",
              "      <td>0.0</td>\n",
              "      <td>0.0</td>\n",
              "      <td>0.0</td>\n",
              "      <td>...</td>\n",
              "      <td>0.0</td>\n",
              "      <td>0.0</td>\n",
              "      <td>0.0</td>\n",
              "      <td>0.0</td>\n",
              "      <td>6.0</td>\n",
              "      <td>13.0</td>\n",
              "      <td>10.0</td>\n",
              "      <td>0.0</td>\n",
              "      <td>0.0</td>\n",
              "      <td>0.0</td>\n",
              "    </tr>\n",
              "    <tr>\n",
              "      <th>1</th>\n",
              "      <td>0.0</td>\n",
              "      <td>0.0</td>\n",
              "      <td>0.0</td>\n",
              "      <td>12.0</td>\n",
              "      <td>13.0</td>\n",
              "      <td>5.0</td>\n",
              "      <td>0.0</td>\n",
              "      <td>0.0</td>\n",
              "      <td>0.0</td>\n",
              "      <td>0.0</td>\n",
              "      <td>...</td>\n",
              "      <td>0.0</td>\n",
              "      <td>0.0</td>\n",
              "      <td>0.0</td>\n",
              "      <td>0.0</td>\n",
              "      <td>0.0</td>\n",
              "      <td>11.0</td>\n",
              "      <td>16.0</td>\n",
              "      <td>10.0</td>\n",
              "      <td>0.0</td>\n",
              "      <td>0.0</td>\n",
              "    </tr>\n",
              "    <tr>\n",
              "      <th>2</th>\n",
              "      <td>0.0</td>\n",
              "      <td>0.0</td>\n",
              "      <td>0.0</td>\n",
              "      <td>4.0</td>\n",
              "      <td>15.0</td>\n",
              "      <td>12.0</td>\n",
              "      <td>0.0</td>\n",
              "      <td>0.0</td>\n",
              "      <td>0.0</td>\n",
              "      <td>0.0</td>\n",
              "      <td>...</td>\n",
              "      <td>5.0</td>\n",
              "      <td>0.0</td>\n",
              "      <td>0.0</td>\n",
              "      <td>0.0</td>\n",
              "      <td>0.0</td>\n",
              "      <td>3.0</td>\n",
              "      <td>11.0</td>\n",
              "      <td>16.0</td>\n",
              "      <td>9.0</td>\n",
              "      <td>0.0</td>\n",
              "    </tr>\n",
              "    <tr>\n",
              "      <th>3</th>\n",
              "      <td>0.0</td>\n",
              "      <td>0.0</td>\n",
              "      <td>7.0</td>\n",
              "      <td>15.0</td>\n",
              "      <td>13.0</td>\n",
              "      <td>1.0</td>\n",
              "      <td>0.0</td>\n",
              "      <td>0.0</td>\n",
              "      <td>0.0</td>\n",
              "      <td>8.0</td>\n",
              "      <td>...</td>\n",
              "      <td>9.0</td>\n",
              "      <td>0.0</td>\n",
              "      <td>0.0</td>\n",
              "      <td>0.0</td>\n",
              "      <td>7.0</td>\n",
              "      <td>13.0</td>\n",
              "      <td>13.0</td>\n",
              "      <td>9.0</td>\n",
              "      <td>0.0</td>\n",
              "      <td>0.0</td>\n",
              "    </tr>\n",
              "    <tr>\n",
              "      <th>4</th>\n",
              "      <td>0.0</td>\n",
              "      <td>0.0</td>\n",
              "      <td>0.0</td>\n",
              "      <td>1.0</td>\n",
              "      <td>11.0</td>\n",
              "      <td>0.0</td>\n",
              "      <td>0.0</td>\n",
              "      <td>0.0</td>\n",
              "      <td>0.0</td>\n",
              "      <td>0.0</td>\n",
              "      <td>...</td>\n",
              "      <td>0.0</td>\n",
              "      <td>0.0</td>\n",
              "      <td>0.0</td>\n",
              "      <td>0.0</td>\n",
              "      <td>0.0</td>\n",
              "      <td>2.0</td>\n",
              "      <td>16.0</td>\n",
              "      <td>4.0</td>\n",
              "      <td>0.0</td>\n",
              "      <td>0.0</td>\n",
              "    </tr>\n",
              "    <tr>\n",
              "      <th>...</th>\n",
              "      <td>...</td>\n",
              "      <td>...</td>\n",
              "      <td>...</td>\n",
              "      <td>...</td>\n",
              "      <td>...</td>\n",
              "      <td>...</td>\n",
              "      <td>...</td>\n",
              "      <td>...</td>\n",
              "      <td>...</td>\n",
              "      <td>...</td>\n",
              "      <td>...</td>\n",
              "      <td>...</td>\n",
              "      <td>...</td>\n",
              "      <td>...</td>\n",
              "      <td>...</td>\n",
              "      <td>...</td>\n",
              "      <td>...</td>\n",
              "      <td>...</td>\n",
              "      <td>...</td>\n",
              "      <td>...</td>\n",
              "      <td>...</td>\n",
              "    </tr>\n",
              "    <tr>\n",
              "      <th>1792</th>\n",
              "      <td>0.0</td>\n",
              "      <td>0.0</td>\n",
              "      <td>4.0</td>\n",
              "      <td>10.0</td>\n",
              "      <td>13.0</td>\n",
              "      <td>6.0</td>\n",
              "      <td>0.0</td>\n",
              "      <td>0.0</td>\n",
              "      <td>0.0</td>\n",
              "      <td>1.0</td>\n",
              "      <td>...</td>\n",
              "      <td>4.0</td>\n",
              "      <td>0.0</td>\n",
              "      <td>0.0</td>\n",
              "      <td>0.0</td>\n",
              "      <td>2.0</td>\n",
              "      <td>14.0</td>\n",
              "      <td>15.0</td>\n",
              "      <td>9.0</td>\n",
              "      <td>0.0</td>\n",
              "      <td>0.0</td>\n",
              "    </tr>\n",
              "    <tr>\n",
              "      <th>1793</th>\n",
              "      <td>0.0</td>\n",
              "      <td>0.0</td>\n",
              "      <td>6.0</td>\n",
              "      <td>16.0</td>\n",
              "      <td>13.0</td>\n",
              "      <td>11.0</td>\n",
              "      <td>1.0</td>\n",
              "      <td>0.0</td>\n",
              "      <td>0.0</td>\n",
              "      <td>0.0</td>\n",
              "      <td>...</td>\n",
              "      <td>1.0</td>\n",
              "      <td>0.0</td>\n",
              "      <td>0.0</td>\n",
              "      <td>0.0</td>\n",
              "      <td>6.0</td>\n",
              "      <td>16.0</td>\n",
              "      <td>14.0</td>\n",
              "      <td>6.0</td>\n",
              "      <td>0.0</td>\n",
              "      <td>0.0</td>\n",
              "    </tr>\n",
              "    <tr>\n",
              "      <th>1794</th>\n",
              "      <td>0.0</td>\n",
              "      <td>0.0</td>\n",
              "      <td>1.0</td>\n",
              "      <td>11.0</td>\n",
              "      <td>15.0</td>\n",
              "      <td>1.0</td>\n",
              "      <td>0.0</td>\n",
              "      <td>0.0</td>\n",
              "      <td>0.0</td>\n",
              "      <td>0.0</td>\n",
              "      <td>...</td>\n",
              "      <td>0.0</td>\n",
              "      <td>0.0</td>\n",
              "      <td>0.0</td>\n",
              "      <td>0.0</td>\n",
              "      <td>2.0</td>\n",
              "      <td>9.0</td>\n",
              "      <td>13.0</td>\n",
              "      <td>6.0</td>\n",
              "      <td>0.0</td>\n",
              "      <td>0.0</td>\n",
              "    </tr>\n",
              "    <tr>\n",
              "      <th>1795</th>\n",
              "      <td>0.0</td>\n",
              "      <td>0.0</td>\n",
              "      <td>2.0</td>\n",
              "      <td>10.0</td>\n",
              "      <td>7.0</td>\n",
              "      <td>0.0</td>\n",
              "      <td>0.0</td>\n",
              "      <td>0.0</td>\n",
              "      <td>0.0</td>\n",
              "      <td>0.0</td>\n",
              "      <td>...</td>\n",
              "      <td>2.0</td>\n",
              "      <td>0.0</td>\n",
              "      <td>0.0</td>\n",
              "      <td>0.0</td>\n",
              "      <td>5.0</td>\n",
              "      <td>12.0</td>\n",
              "      <td>16.0</td>\n",
              "      <td>12.0</td>\n",
              "      <td>0.0</td>\n",
              "      <td>0.0</td>\n",
              "    </tr>\n",
              "    <tr>\n",
              "      <th>1796</th>\n",
              "      <td>0.0</td>\n",
              "      <td>0.0</td>\n",
              "      <td>10.0</td>\n",
              "      <td>14.0</td>\n",
              "      <td>8.0</td>\n",
              "      <td>1.0</td>\n",
              "      <td>0.0</td>\n",
              "      <td>0.0</td>\n",
              "      <td>0.0</td>\n",
              "      <td>2.0</td>\n",
              "      <td>...</td>\n",
              "      <td>8.0</td>\n",
              "      <td>0.0</td>\n",
              "      <td>0.0</td>\n",
              "      <td>1.0</td>\n",
              "      <td>8.0</td>\n",
              "      <td>12.0</td>\n",
              "      <td>14.0</td>\n",
              "      <td>12.0</td>\n",
              "      <td>1.0</td>\n",
              "      <td>0.0</td>\n",
              "    </tr>\n",
              "  </tbody>\n",
              "</table>\n",
              "<p>1797 rows × 64 columns</p>\n",
              "</div>\n",
              "    <div class=\"colab-df-buttons\">\n",
              "\n",
              "  <div class=\"colab-df-container\">\n",
              "    <button class=\"colab-df-convert\" onclick=\"convertToInteractive('df-41915c2c-ae05-4661-a906-37ab3b6a8cf6')\"\n",
              "            title=\"Convert this dataframe to an interactive table.\"\n",
              "            style=\"display:none;\">\n",
              "\n",
              "  <svg xmlns=\"http://www.w3.org/2000/svg\" height=\"24px\" viewBox=\"0 -960 960 960\">\n",
              "    <path d=\"M120-120v-720h720v720H120Zm60-500h600v-160H180v160Zm220 220h160v-160H400v160Zm0 220h160v-160H400v160ZM180-400h160v-160H180v160Zm440 0h160v-160H620v160ZM180-180h160v-160H180v160Zm440 0h160v-160H620v160Z\"/>\n",
              "  </svg>\n",
              "    </button>\n",
              "\n",
              "  <style>\n",
              "    .colab-df-container {\n",
              "      display:flex;\n",
              "      gap: 12px;\n",
              "    }\n",
              "\n",
              "    .colab-df-convert {\n",
              "      background-color: #E8F0FE;\n",
              "      border: none;\n",
              "      border-radius: 50%;\n",
              "      cursor: pointer;\n",
              "      display: none;\n",
              "      fill: #1967D2;\n",
              "      height: 32px;\n",
              "      padding: 0 0 0 0;\n",
              "      width: 32px;\n",
              "    }\n",
              "\n",
              "    .colab-df-convert:hover {\n",
              "      background-color: #E2EBFA;\n",
              "      box-shadow: 0px 1px 2px rgba(60, 64, 67, 0.3), 0px 1px 3px 1px rgba(60, 64, 67, 0.15);\n",
              "      fill: #174EA6;\n",
              "    }\n",
              "\n",
              "    .colab-df-buttons div {\n",
              "      margin-bottom: 4px;\n",
              "    }\n",
              "\n",
              "    [theme=dark] .colab-df-convert {\n",
              "      background-color: #3B4455;\n",
              "      fill: #D2E3FC;\n",
              "    }\n",
              "\n",
              "    [theme=dark] .colab-df-convert:hover {\n",
              "      background-color: #434B5C;\n",
              "      box-shadow: 0px 1px 3px 1px rgba(0, 0, 0, 0.15);\n",
              "      filter: drop-shadow(0px 1px 2px rgba(0, 0, 0, 0.3));\n",
              "      fill: #FFFFFF;\n",
              "    }\n",
              "  </style>\n",
              "\n",
              "    <script>\n",
              "      const buttonEl =\n",
              "        document.querySelector('#df-41915c2c-ae05-4661-a906-37ab3b6a8cf6 button.colab-df-convert');\n",
              "      buttonEl.style.display =\n",
              "        google.colab.kernel.accessAllowed ? 'block' : 'none';\n",
              "\n",
              "      async function convertToInteractive(key) {\n",
              "        const element = document.querySelector('#df-41915c2c-ae05-4661-a906-37ab3b6a8cf6');\n",
              "        const dataTable =\n",
              "          await google.colab.kernel.invokeFunction('convertToInteractive',\n",
              "                                                    [key], {});\n",
              "        if (!dataTable) return;\n",
              "\n",
              "        const docLinkHtml = 'Like what you see? Visit the ' +\n",
              "          '<a target=\"_blank\" href=https://colab.research.google.com/notebooks/data_table.ipynb>data table notebook</a>'\n",
              "          + ' to learn more about interactive tables.';\n",
              "        element.innerHTML = '';\n",
              "        dataTable['output_type'] = 'display_data';\n",
              "        await google.colab.output.renderOutput(dataTable, element);\n",
              "        const docLink = document.createElement('div');\n",
              "        docLink.innerHTML = docLinkHtml;\n",
              "        element.appendChild(docLink);\n",
              "      }\n",
              "    </script>\n",
              "  </div>\n",
              "\n",
              "\n",
              "<div id=\"df-c0e1820e-e963-4378-a223-6f9bf8d384b9\">\n",
              "  <button class=\"colab-df-quickchart\" onclick=\"quickchart('df-c0e1820e-e963-4378-a223-6f9bf8d384b9')\"\n",
              "            title=\"Suggest charts\"\n",
              "            style=\"display:none;\">\n",
              "\n",
              "<svg xmlns=\"http://www.w3.org/2000/svg\" height=\"24px\"viewBox=\"0 0 24 24\"\n",
              "     width=\"24px\">\n",
              "    <g>\n",
              "        <path d=\"M19 3H5c-1.1 0-2 .9-2 2v14c0 1.1.9 2 2 2h14c1.1 0 2-.9 2-2V5c0-1.1-.9-2-2-2zM9 17H7v-7h2v7zm4 0h-2V7h2v10zm4 0h-2v-4h2v4z\"/>\n",
              "    </g>\n",
              "</svg>\n",
              "  </button>\n",
              "\n",
              "<style>\n",
              "  .colab-df-quickchart {\n",
              "      --bg-color: #E8F0FE;\n",
              "      --fill-color: #1967D2;\n",
              "      --hover-bg-color: #E2EBFA;\n",
              "      --hover-fill-color: #174EA6;\n",
              "      --disabled-fill-color: #AAA;\n",
              "      --disabled-bg-color: #DDD;\n",
              "  }\n",
              "\n",
              "  [theme=dark] .colab-df-quickchart {\n",
              "      --bg-color: #3B4455;\n",
              "      --fill-color: #D2E3FC;\n",
              "      --hover-bg-color: #434B5C;\n",
              "      --hover-fill-color: #FFFFFF;\n",
              "      --disabled-bg-color: #3B4455;\n",
              "      --disabled-fill-color: #666;\n",
              "  }\n",
              "\n",
              "  .colab-df-quickchart {\n",
              "    background-color: var(--bg-color);\n",
              "    border: none;\n",
              "    border-radius: 50%;\n",
              "    cursor: pointer;\n",
              "    display: none;\n",
              "    fill: var(--fill-color);\n",
              "    height: 32px;\n",
              "    padding: 0;\n",
              "    width: 32px;\n",
              "  }\n",
              "\n",
              "  .colab-df-quickchart:hover {\n",
              "    background-color: var(--hover-bg-color);\n",
              "    box-shadow: 0 1px 2px rgba(60, 64, 67, 0.3), 0 1px 3px 1px rgba(60, 64, 67, 0.15);\n",
              "    fill: var(--button-hover-fill-color);\n",
              "  }\n",
              "\n",
              "  .colab-df-quickchart-complete:disabled,\n",
              "  .colab-df-quickchart-complete:disabled:hover {\n",
              "    background-color: var(--disabled-bg-color);\n",
              "    fill: var(--disabled-fill-color);\n",
              "    box-shadow: none;\n",
              "  }\n",
              "\n",
              "  .colab-df-spinner {\n",
              "    border: 2px solid var(--fill-color);\n",
              "    border-color: transparent;\n",
              "    border-bottom-color: var(--fill-color);\n",
              "    animation:\n",
              "      spin 1s steps(1) infinite;\n",
              "  }\n",
              "\n",
              "  @keyframes spin {\n",
              "    0% {\n",
              "      border-color: transparent;\n",
              "      border-bottom-color: var(--fill-color);\n",
              "      border-left-color: var(--fill-color);\n",
              "    }\n",
              "    20% {\n",
              "      border-color: transparent;\n",
              "      border-left-color: var(--fill-color);\n",
              "      border-top-color: var(--fill-color);\n",
              "    }\n",
              "    30% {\n",
              "      border-color: transparent;\n",
              "      border-left-color: var(--fill-color);\n",
              "      border-top-color: var(--fill-color);\n",
              "      border-right-color: var(--fill-color);\n",
              "    }\n",
              "    40% {\n",
              "      border-color: transparent;\n",
              "      border-right-color: var(--fill-color);\n",
              "      border-top-color: var(--fill-color);\n",
              "    }\n",
              "    60% {\n",
              "      border-color: transparent;\n",
              "      border-right-color: var(--fill-color);\n",
              "    }\n",
              "    80% {\n",
              "      border-color: transparent;\n",
              "      border-right-color: var(--fill-color);\n",
              "      border-bottom-color: var(--fill-color);\n",
              "    }\n",
              "    90% {\n",
              "      border-color: transparent;\n",
              "      border-bottom-color: var(--fill-color);\n",
              "    }\n",
              "  }\n",
              "</style>\n",
              "\n",
              "  <script>\n",
              "    async function quickchart(key) {\n",
              "      const quickchartButtonEl =\n",
              "        document.querySelector('#' + key + ' button');\n",
              "      quickchartButtonEl.disabled = true;  // To prevent multiple clicks.\n",
              "      quickchartButtonEl.classList.add('colab-df-spinner');\n",
              "      try {\n",
              "        const charts = await google.colab.kernel.invokeFunction(\n",
              "            'suggestCharts', [key], {});\n",
              "      } catch (error) {\n",
              "        console.error('Error during call to suggestCharts:', error);\n",
              "      }\n",
              "      quickchartButtonEl.classList.remove('colab-df-spinner');\n",
              "      quickchartButtonEl.classList.add('colab-df-quickchart-complete');\n",
              "    }\n",
              "    (() => {\n",
              "      let quickchartButtonEl =\n",
              "        document.querySelector('#df-c0e1820e-e963-4378-a223-6f9bf8d384b9 button');\n",
              "      quickchartButtonEl.style.display =\n",
              "        google.colab.kernel.accessAllowed ? 'block' : 'none';\n",
              "    })();\n",
              "  </script>\n",
              "</div>\n",
              "\n",
              "  <div id=\"id_137a054a-9473-49d7-bee6-894303facdff\">\n",
              "    <style>\n",
              "      .colab-df-generate {\n",
              "        background-color: #E8F0FE;\n",
              "        border: none;\n",
              "        border-radius: 50%;\n",
              "        cursor: pointer;\n",
              "        display: none;\n",
              "        fill: #1967D2;\n",
              "        height: 32px;\n",
              "        padding: 0 0 0 0;\n",
              "        width: 32px;\n",
              "      }\n",
              "\n",
              "      .colab-df-generate:hover {\n",
              "        background-color: #E2EBFA;\n",
              "        box-shadow: 0px 1px 2px rgba(60, 64, 67, 0.3), 0px 1px 3px 1px rgba(60, 64, 67, 0.15);\n",
              "        fill: #174EA6;\n",
              "      }\n",
              "\n",
              "      [theme=dark] .colab-df-generate {\n",
              "        background-color: #3B4455;\n",
              "        fill: #D2E3FC;\n",
              "      }\n",
              "\n",
              "      [theme=dark] .colab-df-generate:hover {\n",
              "        background-color: #434B5C;\n",
              "        box-shadow: 0px 1px 3px 1px rgba(0, 0, 0, 0.15);\n",
              "        filter: drop-shadow(0px 1px 2px rgba(0, 0, 0, 0.3));\n",
              "        fill: #FFFFFF;\n",
              "      }\n",
              "    </style>\n",
              "    <button class=\"colab-df-generate\" onclick=\"generateWithVariable('X')\"\n",
              "            title=\"Generate code using this dataframe.\"\n",
              "            style=\"display:none;\">\n",
              "\n",
              "  <svg xmlns=\"http://www.w3.org/2000/svg\" height=\"24px\"viewBox=\"0 0 24 24\"\n",
              "       width=\"24px\">\n",
              "    <path d=\"M7,19H8.4L18.45,9,17,7.55,7,17.6ZM5,21V16.75L18.45,3.32a2,2,0,0,1,2.83,0l1.4,1.43a1.91,1.91,0,0,1,.58,1.4,1.91,1.91,0,0,1-.58,1.4L9.25,21ZM18.45,9,17,7.55Zm-12,3A5.31,5.31,0,0,0,4.9,8.1,5.31,5.31,0,0,0,1,6.5,5.31,5.31,0,0,0,4.9,4.9,5.31,5.31,0,0,0,6.5,1,5.31,5.31,0,0,0,8.1,4.9,5.31,5.31,0,0,0,12,6.5,5.46,5.46,0,0,0,6.5,12Z\"/>\n",
              "  </svg>\n",
              "    </button>\n",
              "    <script>\n",
              "      (() => {\n",
              "      const buttonEl =\n",
              "        document.querySelector('#id_137a054a-9473-49d7-bee6-894303facdff button.colab-df-generate');\n",
              "      buttonEl.style.display =\n",
              "        google.colab.kernel.accessAllowed ? 'block' : 'none';\n",
              "\n",
              "      buttonEl.onclick = () => {\n",
              "        google.colab.notebook.generateWithVariable('X');\n",
              "      }\n",
              "      })();\n",
              "    </script>\n",
              "  </div>\n",
              "\n",
              "    </div>\n",
              "  </div>\n"
            ],
            "application/vnd.google.colaboratory.intrinsic+json": {
              "type": "dataframe",
              "variable_name": "X"
            }
          },
          "metadata": {},
          "execution_count": 4
        }
      ]
    },
    {
      "cell_type": "code",
      "source": [
        "X.info()"
      ],
      "metadata": {
        "colab": {
          "base_uri": "https://localhost:8080/",
          "height": 0
        },
        "id": "2KfJqva1FZxp",
        "outputId": "8373ac7e-dfa9-4ac0-846b-93530b74e197"
      },
      "execution_count": 5,
      "outputs": [
        {
          "output_type": "stream",
          "name": "stdout",
          "text": [
            "<class 'pandas.core.frame.DataFrame'>\n",
            "RangeIndex: 1797 entries, 0 to 1796\n",
            "Data columns (total 64 columns):\n",
            " #   Column     Non-Null Count  Dtype  \n",
            "---  ------     --------------  -----  \n",
            " 0   pixel_0_0  1797 non-null   float64\n",
            " 1   pixel_0_1  1797 non-null   float64\n",
            " 2   pixel_0_2  1797 non-null   float64\n",
            " 3   pixel_0_3  1797 non-null   float64\n",
            " 4   pixel_0_4  1797 non-null   float64\n",
            " 5   pixel_0_5  1797 non-null   float64\n",
            " 6   pixel_0_6  1797 non-null   float64\n",
            " 7   pixel_0_7  1797 non-null   float64\n",
            " 8   pixel_1_0  1797 non-null   float64\n",
            " 9   pixel_1_1  1797 non-null   float64\n",
            " 10  pixel_1_2  1797 non-null   float64\n",
            " 11  pixel_1_3  1797 non-null   float64\n",
            " 12  pixel_1_4  1797 non-null   float64\n",
            " 13  pixel_1_5  1797 non-null   float64\n",
            " 14  pixel_1_6  1797 non-null   float64\n",
            " 15  pixel_1_7  1797 non-null   float64\n",
            " 16  pixel_2_0  1797 non-null   float64\n",
            " 17  pixel_2_1  1797 non-null   float64\n",
            " 18  pixel_2_2  1797 non-null   float64\n",
            " 19  pixel_2_3  1797 non-null   float64\n",
            " 20  pixel_2_4  1797 non-null   float64\n",
            " 21  pixel_2_5  1797 non-null   float64\n",
            " 22  pixel_2_6  1797 non-null   float64\n",
            " 23  pixel_2_7  1797 non-null   float64\n",
            " 24  pixel_3_0  1797 non-null   float64\n",
            " 25  pixel_3_1  1797 non-null   float64\n",
            " 26  pixel_3_2  1797 non-null   float64\n",
            " 27  pixel_3_3  1797 non-null   float64\n",
            " 28  pixel_3_4  1797 non-null   float64\n",
            " 29  pixel_3_5  1797 non-null   float64\n",
            " 30  pixel_3_6  1797 non-null   float64\n",
            " 31  pixel_3_7  1797 non-null   float64\n",
            " 32  pixel_4_0  1797 non-null   float64\n",
            " 33  pixel_4_1  1797 non-null   float64\n",
            " 34  pixel_4_2  1797 non-null   float64\n",
            " 35  pixel_4_3  1797 non-null   float64\n",
            " 36  pixel_4_4  1797 non-null   float64\n",
            " 37  pixel_4_5  1797 non-null   float64\n",
            " 38  pixel_4_6  1797 non-null   float64\n",
            " 39  pixel_4_7  1797 non-null   float64\n",
            " 40  pixel_5_0  1797 non-null   float64\n",
            " 41  pixel_5_1  1797 non-null   float64\n",
            " 42  pixel_5_2  1797 non-null   float64\n",
            " 43  pixel_5_3  1797 non-null   float64\n",
            " 44  pixel_5_4  1797 non-null   float64\n",
            " 45  pixel_5_5  1797 non-null   float64\n",
            " 46  pixel_5_6  1797 non-null   float64\n",
            " 47  pixel_5_7  1797 non-null   float64\n",
            " 48  pixel_6_0  1797 non-null   float64\n",
            " 49  pixel_6_1  1797 non-null   float64\n",
            " 50  pixel_6_2  1797 non-null   float64\n",
            " 51  pixel_6_3  1797 non-null   float64\n",
            " 52  pixel_6_4  1797 non-null   float64\n",
            " 53  pixel_6_5  1797 non-null   float64\n",
            " 54  pixel_6_6  1797 non-null   float64\n",
            " 55  pixel_6_7  1797 non-null   float64\n",
            " 56  pixel_7_0  1797 non-null   float64\n",
            " 57  pixel_7_1  1797 non-null   float64\n",
            " 58  pixel_7_2  1797 non-null   float64\n",
            " 59  pixel_7_3  1797 non-null   float64\n",
            " 60  pixel_7_4  1797 non-null   float64\n",
            " 61  pixel_7_5  1797 non-null   float64\n",
            " 62  pixel_7_6  1797 non-null   float64\n",
            " 63  pixel_7_7  1797 non-null   float64\n",
            "dtypes: float64(64)\n",
            "memory usage: 898.6 KB\n"
          ]
        }
      ]
    },
    {
      "cell_type": "code",
      "source": [
        "# Targets\n",
        "y"
      ],
      "metadata": {
        "colab": {
          "base_uri": "https://localhost:8080/",
          "height": 458
        },
        "id": "HIl6JWGCExKb",
        "outputId": "b8f0687c-47b5-4873-d6a6-c97f1c8dd8fe"
      },
      "execution_count": 6,
      "outputs": [
        {
          "output_type": "execute_result",
          "data": {
            "text/plain": [
              "0       0\n",
              "1       1\n",
              "2       2\n",
              "3       3\n",
              "4       4\n",
              "       ..\n",
              "1792    9\n",
              "1793    0\n",
              "1794    8\n",
              "1795    9\n",
              "1796    8\n",
              "Name: target, Length: 1797, dtype: int64"
            ],
            "text/html": [
              "<div>\n",
              "<style scoped>\n",
              "    .dataframe tbody tr th:only-of-type {\n",
              "        vertical-align: middle;\n",
              "    }\n",
              "\n",
              "    .dataframe tbody tr th {\n",
              "        vertical-align: top;\n",
              "    }\n",
              "\n",
              "    .dataframe thead th {\n",
              "        text-align: right;\n",
              "    }\n",
              "</style>\n",
              "<table border=\"1\" class=\"dataframe\">\n",
              "  <thead>\n",
              "    <tr style=\"text-align: right;\">\n",
              "      <th></th>\n",
              "      <th>target</th>\n",
              "    </tr>\n",
              "  </thead>\n",
              "  <tbody>\n",
              "    <tr>\n",
              "      <th>0</th>\n",
              "      <td>0</td>\n",
              "    </tr>\n",
              "    <tr>\n",
              "      <th>1</th>\n",
              "      <td>1</td>\n",
              "    </tr>\n",
              "    <tr>\n",
              "      <th>2</th>\n",
              "      <td>2</td>\n",
              "    </tr>\n",
              "    <tr>\n",
              "      <th>3</th>\n",
              "      <td>3</td>\n",
              "    </tr>\n",
              "    <tr>\n",
              "      <th>4</th>\n",
              "      <td>4</td>\n",
              "    </tr>\n",
              "    <tr>\n",
              "      <th>...</th>\n",
              "      <td>...</td>\n",
              "    </tr>\n",
              "    <tr>\n",
              "      <th>1792</th>\n",
              "      <td>9</td>\n",
              "    </tr>\n",
              "    <tr>\n",
              "      <th>1793</th>\n",
              "      <td>0</td>\n",
              "    </tr>\n",
              "    <tr>\n",
              "      <th>1794</th>\n",
              "      <td>8</td>\n",
              "    </tr>\n",
              "    <tr>\n",
              "      <th>1795</th>\n",
              "      <td>9</td>\n",
              "    </tr>\n",
              "    <tr>\n",
              "      <th>1796</th>\n",
              "      <td>8</td>\n",
              "    </tr>\n",
              "  </tbody>\n",
              "</table>\n",
              "<p>1797 rows × 1 columns</p>\n",
              "</div><br><label><b>dtype:</b> int64</label>"
            ]
          },
          "metadata": {},
          "execution_count": 6
        }
      ]
    },
    {
      "cell_type": "code",
      "source": [
        "y.info()"
      ],
      "metadata": {
        "colab": {
          "base_uri": "https://localhost:8080/",
          "height": 0
        },
        "id": "gPIKMHfOFlqa",
        "outputId": "ed846857-581c-45ce-a629-5ac261af1e65"
      },
      "execution_count": 7,
      "outputs": [
        {
          "output_type": "stream",
          "name": "stdout",
          "text": [
            "<class 'pandas.core.series.Series'>\n",
            "RangeIndex: 1797 entries, 0 to 1796\n",
            "Series name: target\n",
            "Non-Null Count  Dtype\n",
            "--------------  -----\n",
            "1797 non-null   int64\n",
            "dtypes: int64(1)\n",
            "memory usage: 14.2 KB\n"
          ]
        }
      ]
    },
    {
      "cell_type": "code",
      "source": [
        "# Convert the target to categorical variable\n",
        "y_encoded = tf.keras.utils.to_categorical(y, num_classes=10)"
      ],
      "metadata": {
        "id": "WeQG98jg4DDo"
      },
      "execution_count": 8,
      "outputs": []
    },
    {
      "cell_type": "code",
      "source": [
        "# split the data into training and test sets\n",
        "X_train_unscaled, X_test_unscaled, y_train, y_test = train_test_split(X, y_encoded, test_size=0.3, random_state=42)"
      ],
      "metadata": {
        "id": "H0ztX7yXGy29"
      },
      "execution_count": 9,
      "outputs": []
    },
    {
      "cell_type": "code",
      "source": [
        "# Scale the training data\n",
        "scaler=StandardScaler()\n",
        "\n",
        "X_train=scaler.fit_transform(X_train_unscaled)\n",
        "X_test = scaler.transform(X_test_unscaled)"
      ],
      "metadata": {
        "id": "W2r5DB8nKeH0"
      },
      "execution_count": 10,
      "outputs": []
    },
    {
      "cell_type": "code",
      "source": [
        "# Convert data into tensors\n",
        "X_train = tf.convert_to_tensor(X_train, dtype = tf.float32)\n",
        "X_test = tf.convert_to_tensor(X_test, dtype = tf.float32)\n",
        "y_train = tf.convert_to_tensor(y_train, dtype = tf.float32)\n",
        "y_test= tf.convert_to_tensor(y_test, dtype = tf.float32)"
      ],
      "metadata": {
        "id": "f2_WC1ByKueF"
      },
      "execution_count": 11,
      "outputs": []
    },
    {
      "cell_type": "code",
      "source": [
        "X_train.shape, X_test.shape"
      ],
      "metadata": {
        "colab": {
          "base_uri": "https://localhost:8080/",
          "height": 0
        },
        "id": "qTJpC2BKLIMT",
        "outputId": "a20f35ee-ef0e-4632-9308-5d103ce0efdf"
      },
      "execution_count": 12,
      "outputs": [
        {
          "output_type": "execute_result",
          "data": {
            "text/plain": [
              "(TensorShape([1257, 64]), TensorShape([540, 64]))"
            ]
          },
          "metadata": {},
          "execution_count": 12
        }
      ]
    },
    {
      "cell_type": "markdown",
      "source": [
        "**Question 8: Fill in the input dimension and output dimension of the two layer neural network appropriate for this dataset. (5 pts)**"
      ],
      "metadata": {
        "id": "jlFonqi36YUJ"
      }
    },
    {
      "cell_type": "code",
      "source": [
        "# Set dimensions of the neural network\n",
        "input_dim = X_train.shape[1]\n",
        "hidden_dim = input_dim * 3\n",
        "output_dim = 10\n",
        "\n",
        "# Validate dimensions\n",
        "assert input_dim > 0\n",
        "assert hidden_dim > input_dim\n",
        "assert output_dim == 10\n",
        "\n",
        "print(f\"Network Architecture:\\n\")\n",
        "print(f\"Input Layer: {input_dim} nodes\")\n",
        "print(f\"Hidden Layer: {hidden_dim} nodes\")\n",
        "print(f\"Output Layer: {output_dim} node\")"
      ],
      "metadata": {
        "id": "tgcMUMUx6agm",
        "colab": {
          "base_uri": "https://localhost:8080/",
          "height": 0
        },
        "outputId": "b3b36bb9-97d0-4f73-edb8-a91da81b4002"
      },
      "execution_count": 13,
      "outputs": [
        {
          "output_type": "stream",
          "name": "stdout",
          "text": [
            "Network Architecture:\n",
            "\n",
            "Input Layer: 64 nodes\n",
            "Hidden Layer: 192 nodes\n",
            "Output Layer: 10 node\n"
          ]
        }
      ]
    },
    {
      "cell_type": "markdown",
      "source": [
        "**Question 9: Define tensorflow variables for weights W1, b1, W2, and b2. Then, initialize both biases b1 and b2 to be 0 and initialize W1 andW2 by picking values uniformly at random from the interval [0, 0.1]. (5 pts)**"
      ],
      "metadata": {
        "id": "ieMmdCic7kaU"
      }
    },
    {
      "cell_type": "code",
      "source": [
        "# Initialize weights for hidden layer (Layer 1)\n",
        "W1 = tf.Variable(\n",
        "    tf.random.uniform(\n",
        "        shape=[input_dim, hidden_dim],\n",
        "        minval=0,\n",
        "        maxval=0.1,\n",
        "        dtype=tf.float32,\n",
        "        name='W1'\n",
        "    )\n",
        ")\n",
        "\n",
        "# Initialize bias for hidden layer\n",
        "b1 = tf.Variable(\n",
        "    tf.zeros(\n",
        "        shape=[hidden_dim],\n",
        "        dtype=tf.float32,\n",
        "        name='b1'\n",
        "    )\n",
        ")\n",
        "\n",
        "# Initialize weights for output layer (Layer 2)\n",
        "W2 = tf.Variable(\n",
        "    tf.random.uniform(\n",
        "        shape=[hidden_dim, output_dim],\n",
        "        minval=0,\n",
        "        maxval=0.1,\n",
        "        dtype=tf.float32,\n",
        "        name='W2'\n",
        "    )\n",
        ")\n",
        "\n",
        "# Initialize bias for output layer\n",
        "b2 = tf.Variable(\n",
        "    tf.zeros(\n",
        "        shape=[output_dim],\n",
        "        dtype=tf.float32,\n",
        "        name='b2'\n",
        "    )\n",
        ")\n",
        "\n",
        "# Print parameter shapes for verification\n",
        "print(f\"Network Parameter Shapes:\\n\")\n",
        "print(f\"W1: {W1.shape} - Hidden layer weights\")\n",
        "print(f\"b1: {b1.shape} - Hidden layer bias\")\n",
        "print(f\"W2: {W2.shape} - Output layer weights\")\n",
        "print(f\"b2: {b2.shape} - Output layer bias\")"
      ],
      "metadata": {
        "id": "lK2szlP37p62",
        "colab": {
          "base_uri": "https://localhost:8080/",
          "height": 0
        },
        "outputId": "a51e4369-8ca1-4033-f5aa-628b8d9b679a"
      },
      "execution_count": 14,
      "outputs": [
        {
          "output_type": "stream",
          "name": "stdout",
          "text": [
            "Network Parameter Shapes:\n",
            "\n",
            "W1: (64, 192) - Hidden layer weights\n",
            "b1: (192,) - Hidden layer bias\n",
            "W2: (192, 10) - Output layer weights\n",
            "b2: (10,) - Output layer bias\n"
          ]
        }
      ]
    },
    {
      "cell_type": "markdown",
      "source": [
        "**Question 10: Complete the classier function** below to define a two layer neural network that outputs class probabilities for each class. Here,inputs is a matrix of shape n*d,where ith row of the inputs matrix contains xTi . (10 pts)"
      ],
      "metadata": {
        "id": "4ekLe5t7747s"
      }
    },
    {
      "cell_type": "markdown",
      "source": [
        "You may use tf.softmax.nn() function to compute softmax class probabilities."
      ],
      "metadata": {
        "id": "EDuLoQVJ8RHG"
      }
    },
    {
      "cell_type": "code",
      "source": [
        "def classifier(inputs: tf.Tensor) -> tf.Tensor:\n",
        "\n",
        "    hidden = tf.matmul(inputs, W1) + b1\n",
        "    hidden_activated = tf.nn.relu(hidden)\n",
        "\n",
        "    logits = tf.matmul(hidden_activated, W2) + b2\n",
        "    probabilities = tf.nn.softmax(logits)\n",
        "\n",
        "    return probabilities"
      ],
      "metadata": {
        "id": "Cwl-S8RD8LpR"
      },
      "execution_count": 15,
      "outputs": []
    },
    {
      "cell_type": "markdown",
      "source": [
        "**Question 11: Complete the function below to compute cross entropy loss given one hot encoding of targets and predictions with classprobabilities for each prediction. Write the function such that autodiff will work, and note that you cannot use inbuilt tensorow cross entropyfunction. (10 pts)**"
      ],
      "metadata": {
        "id": "KrsogH9T9dml"
      }
    },
    {
      "cell_type": "code",
      "source": [
        "def cross_entropy(predictions, targets):\n",
        "    epsilon = 1e-15 # prevents numerical instability by avoiding log(0) which would result\n",
        "                    # in infinite/NaN values that break gradient calculations\n",
        "    cr_entropies = -tf.reduce_sum(targets * tf.math.log(predictions + epsilon), axis=1)\n",
        "    mean_cr_entropy = tf.reduce_mean(cr_entropies)\n",
        "\n",
        "    return mean_cr_entropy"
      ],
      "metadata": {
        "id": "rnOR9lEB9lp_"
      },
      "execution_count": 16,
      "outputs": []
    },
    {
      "cell_type": "markdown",
      "source": [
        "**Question 12: Complete the function below to train the neural network classifier using gradient descent. (5 pts)**"
      ],
      "metadata": {
        "id": "d67woI0r_BXD"
      }
    },
    {
      "cell_type": "code",
      "source": [
        "def train(inputs: tf.Tensor, targets: tf.Tensor, optimizer: tf.keras.optimizers.Optimizer) -> tf.Tensor:\n",
        "\n",
        "    with tf.GradientTape() as tape:\n",
        "        # Ensure variables are tracked\n",
        "        tape.watch([W1, b1, W2, b2])\n",
        "\n",
        "        # Forward pass\n",
        "        predictions = classifier(inputs)\n",
        "        loss = cross_entropy(predictions, targets)\n",
        "\n",
        "    # Compute gradients\n",
        "    trainable_vars = [W1, b1, W2, b2]\n",
        "    gradients = tape.gradient(loss, trainable_vars)\n",
        "\n",
        "    # Update variables using gradient descent\n",
        "    optimizer.apply_gradients(zip(gradients, trainable_vars))\n",
        "\n",
        "\n",
        "    return loss"
      ],
      "metadata": {
        "id": "Ubt_JD9h_HaH"
      },
      "execution_count": 17,
      "outputs": []
    },
    {
      "cell_type": "markdown",
      "source": [
        "**Train the model using 500 GD iterations.**"
      ],
      "metadata": {
        "id": "eUpaWC34B4Ki"
      }
    },
    {
      "cell_type": "code",
      "source": [
        "# Set hyper parameters\n",
        "num_iterations = 200\n",
        "learning_rate = 0.01\n",
        "optimizer = tf.keras.optimizers.Adam(learning_rate)\n",
        "\n",
        "for step in range(num_iterations):\n",
        "    loss = train(X_train, y_train, optimizer)\n",
        "\n",
        "    if (step + 1) % 20 == 0:\n",
        "        print(f\"Loss at step {step + 1}: {loss:.4f}\")"
      ],
      "metadata": {
        "id": "Pnu0BhBUB7NR",
        "colab": {
          "base_uri": "https://localhost:8080/",
          "height": 0
        },
        "outputId": "c1d1e875-4d04-4c7b-8011-d3b7c02f663d"
      },
      "execution_count": 18,
      "outputs": [
        {
          "output_type": "stream",
          "name": "stdout",
          "text": [
            "Loss at step 20: 0.0703\n",
            "Loss at step 40: 0.0038\n",
            "Loss at step 60: 0.0011\n",
            "Loss at step 80: 0.0007\n",
            "Loss at step 100: 0.0005\n",
            "Loss at step 120: 0.0004\n",
            "Loss at step 140: 0.0004\n",
            "Loss at step 160: 0.0003\n",
            "Loss at step 180: 0.0003\n",
            "Loss at step 200: 0.0002\n"
          ]
        }
      ]
    },
    {
      "cell_type": "markdown",
      "source": [
        "Suppose, given the vector of class probabilities, you output the label with the highest class probability as your label. As an evaluation of ourmodel, we want to compute the number of mistakes that the model makes. For instance, if is the true label and is the prediction of the model, we will evaluate our model on this point with 0-1 loss 1( ≠ y) = {1 yˆ≠ y and 0 yˆ=y}\n",
        "Over points, we will compute the mean 0-1 loss,1/n∑(i=1..n) 1 *(yˆi≠yi)"
      ],
      "metadata": {
        "id": "NvpPoSPkEqUh"
      }
    },
    {
      "cell_type": "markdown",
      "source": [
        "**Question 13: Compute the mean 0-1 loss of your classif[link text](https://)er on the test data. (10 pts)**"
      ],
      "metadata": {
        "id": "QuxzJN9FojxG"
      }
    },
    {
      "cell_type": "code",
      "source": [
        "def compute_zero_one_loss(X_test: tf.Tensor, y_test: tf.Tensor) -> float:\n",
        "\n",
        "    # Get predictions\n",
        "    predictions = classifier(X_test)\n",
        "\n",
        "    # Convert to class labels\n",
        "    pred_labels = tf.argmax(predictions, axis=1)\n",
        "    true_labels = tf.argmax(y_test, axis=1)\n",
        "\n",
        "    # Compute 0-1 loss (1 if prediction != true label, 0 otherwise)\n",
        "    mistakes = tf.cast(pred_labels != true_labels, tf.float32)\n",
        "\n",
        "    # Return mean 0-1 loss\n",
        "    return float(tf.reduce_mean(mistakes))\n",
        "\n",
        "mean_loss = compute_zero_one_loss(X_test, y_test)\n",
        "print(f\"Mean 0-1 Loss: {mean_loss:.4f}\")"
      ],
      "metadata": {
        "id": "XTtkQVSQouY9",
        "colab": {
          "base_uri": "https://localhost:8080/",
          "height": 0
        },
        "outputId": "fd6024b2-3f08-4120-aca8-380804c64acf"
      },
      "execution_count": 19,
      "outputs": [
        {
          "output_type": "stream",
          "name": "stdout",
          "text": [
            "Mean 0-1 Loss: 0.0185\n"
          ]
        }
      ]
    },
    {
      "cell_type": "markdown",
      "source": [
        "The classifier achieves a **mean 0-1 loss** of **0.0185**, translating to an outstanding accuracy of approximately **98.15%**."
      ],
      "metadata": {
        "id": "RcHOo2bgmK5u"
      }
    }
  ]
}